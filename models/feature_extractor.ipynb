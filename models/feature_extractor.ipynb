{
  "nbformat": 4,
  "nbformat_minor": 0,
  "metadata": {
    "colab": {
      "provenance": [],
      "authorship_tag": "ABX9TyM3QpCmP8eYCUETlAnhpj6K",
      "include_colab_link": true
    },
    "kernelspec": {
      "name": "python3",
      "display_name": "Python 3"
    },
    "language_info": {
      "name": "python"
    }
  },
  "cells": [
    {
      "cell_type": "markdown",
      "metadata": {
        "id": "view-in-github",
        "colab_type": "text"
      },
      "source": [
        "<a href=\"https://colab.research.google.com/github/Divyaansh0711/AI-powered-Shopping-Agent/blob/main/models/feature_extractor.ipynb\" target=\"_parent\"><img src=\"https://colab.research.google.com/assets/colab-badge.svg\" alt=\"Open In Colab\"/></a>"
      ]
    },
    {
      "cell_type": "code",
      "execution_count": null,
      "metadata": {
        "id": "y_5PL1Oswel8"
      },
      "outputs": [],
      "source": [
        "# ✅ Step 1: Install and import necessary libraries\n",
        "import torch\n",
        "import torchvision.transforms as transforms\n",
        "from torchvision import models\n",
        "from PIL import Image\n",
        "import numpy as np\n",
        "import os\n",
        "\n",
        "# ✅ Step 2: Load a pre-trained model (ResNet50 for now, easy to switch to ViT later)\n",
        "model = models.resnet50(pretrained=True)\n",
        "model.eval()  # Set model to inference mode\n",
        "feature_extractor = torch.nn.Sequential(*list(model.children())[:-1])  # Remove last FC layer\n",
        "\n",
        "# ✅ Step 3: Define preprocessing pipeline\n",
        "transform = transforms.Compose([\n",
        "    transforms.Resize((224, 224)),\n",
        "    transforms.ToTensor(),\n",
        "    transforms.Normalize(mean=[0.485, 0.456, 0.406],  std=[0.229, 0.224, 0.225])\n",
        "])\n",
        "\n",
        "# ✅ Step 4: Feature extraction function\n",
        "def extract_features(image_path):\n",
        "    image = Image.open(image_path).convert('RGB')\n",
        "    input_tensor = transform(image).unsqueeze(0)  # Add batch dimension\n",
        "    with torch.no_grad():\n",
        "        features = feature_extractor(input_tensor)\n",
        "    return features.squeeze().numpy()\n"
      ]
    },
    {
      "cell_type": "code",
      "source": [
        "# Download a test image\n",
        "!wget https://upload.wikimedia.org/wikipedia/commons/2/26/Yellow_jacket.jpg -O test_image.jpg\n",
        "\n",
        "# Extract features\n",
        "features = extract_features(\"test_image.jpg\")\n",
        "print(\"Feature shape:\", features.shape)  # Expected: (2048,)\n"
      ],
      "metadata": {
        "id": "wO7GNh4fwpaA"
      },
      "execution_count": null,
      "outputs": []
    },
    {
      "cell_type": "code",
      "source": [
        "np.save('data/features/yellow_jacket.npy', features)\n"
      ],
      "metadata": {
        "id": "3q6sCaMDwpXs"
      },
      "execution_count": null,
      "outputs": []
    },
    {
      "cell_type": "code",
      "source": [
        "!mkdir -p data/features\n",
        "!touch data/features/.gitkeep\n"
      ],
      "metadata": {
        "id": "uLB0Xj-rwpU5"
      },
      "execution_count": null,
      "outputs": []
    },
    {
      "cell_type": "code",
      "source": [],
      "metadata": {
        "id": "CyRt8IRWwpOk"
      },
      "execution_count": null,
      "outputs": []
    }
  ]
}